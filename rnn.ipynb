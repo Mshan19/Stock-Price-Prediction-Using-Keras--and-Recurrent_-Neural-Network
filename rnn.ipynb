{
  "nbformat": 4,
  "nbformat_minor": 0,
  "metadata": {
    "colab": {
      "name": "rnn.ipynb",
      "provenance": []
    },
    "kernelspec": {
      "name": "python3",
      "display_name": "Python 3"
    }
  },
  "cells": [
    {
      "cell_type": "markdown",
      "metadata": {
        "id": "lvTvlzMS51kJ",
        "colab_type": "text"
      },
      "source": [
        "**# Recurrent Neural Network**"
      ]
    },
    {
      "cell_type": "markdown",
      "metadata": {
        "id": "ToMAcco751g5",
        "colab_type": "text"
      },
      "source": [
        "**# Part 1: Data Preprocessing**"
      ]
    },
    {
      "cell_type": "markdown",
      "metadata": {
        "id": "kTTMtpyr6bBe",
        "colab_type": "text"
      },
      "source": [
        "**# Importing the libraries**"
      ]
    },
    {
      "cell_type": "code",
      "metadata": {
        "id": "yXjK_8bV4uEI",
        "colab_type": "code",
        "colab": {}
      },
      "source": [
        "import numpy as np\n",
        "import matplotlib.pyplot as plt\n",
        "import pandas as pd"
      ],
      "execution_count": 0,
      "outputs": []
    },
    {
      "cell_type": "markdown",
      "metadata": {
        "id": "v6lzXCBE7yEe",
        "colab_type": "text"
      },
      "source": [
        "**# Importing the training set**"
      ]
    },
    {
      "cell_type": "code",
      "metadata": {
        "id": "KA1y15Hw6aHu",
        "colab_type": "code",
        "colab": {}
      },
      "source": [
        "dataset_train = pd.read_csv('Google_Stock_Price_Train.csv')\n",
        "training_set = dataset_train.iloc[:,1:2].values"
      ],
      "execution_count": 0,
      "outputs": []
    },
    {
      "cell_type": "markdown",
      "metadata": {
        "id": "ljSb3aMo8Sx3",
        "colab_type": "text"
      },
      "source": [
        "**# Feature Scaling**"
      ]
    },
    {
      "cell_type": "code",
      "metadata": {
        "id": "PTuTK6Wc-JYG",
        "colab_type": "code",
        "colab": {}
      },
      "source": [
        "from sklearn.preprocessing import MinMaxScaler\n",
        "sc = MinMaxScaler(feature_range = (0, 1))\n",
        "training_set_scaled = sc.fit_transform(training_set)\n"
      ],
      "execution_count": 0,
      "outputs": []
    },
    {
      "cell_type": "markdown",
      "metadata": {
        "id": "e9LLqD4r-gim",
        "colab_type": "text"
      },
      "source": [
        "**# Creating a data structure with 60 timesteps and 1 output**"
      ]
    },
    {
      "cell_type": "code",
      "metadata": {
        "id": "7EZwPTkn_4cV",
        "colab_type": "code",
        "colab": {}
      },
      "source": [
        "X_train = []\n",
        "y_train = []\n",
        "for i in range(60, 1258):\n",
        "    X_train.append(training_set_scaled[i-60:i, 0])\n",
        "    y_train.append(training_set_scaled[i, 0])\n",
        "X_train, y_train = np.array(X_train), np.array(y_train)\n"
      ],
      "execution_count": 0,
      "outputs": []
    },
    {
      "cell_type": "markdown",
      "metadata": {
        "id": "fOjnDbGiBV9b",
        "colab_type": "text"
      },
      "source": [
        "**# Reshaping**"
      ]
    },
    {
      "cell_type": "code",
      "metadata": {
        "id": "8Ruw19CH-2br",
        "colab_type": "code",
        "colab": {}
      },
      "source": [
        "X_train = np.reshape(X_train,(X_train.shape[0],X_train.shape[1],1))"
      ],
      "execution_count": 0,
      "outputs": []
    },
    {
      "cell_type": "markdown",
      "metadata": {
        "id": "5QivTNabBq-K",
        "colab_type": "text"
      },
      "source": [
        "**# Part2 -- Building the RNN**"
      ]
    },
    {
      "cell_type": "markdown",
      "metadata": {
        "id": "reV3KhPIB68j",
        "colab_type": "text"
      },
      "source": [
        "**# Importing the keras libraries and packages**"
      ]
    },
    {
      "cell_type": "code",
      "metadata": {
        "id": "OAQFTUbNBpWo",
        "colab_type": "code",
        "colab": {}
      },
      "source": [
        "from keras.models import Sequential\n",
        "from keras.layers import Dense\n",
        "from keras.layers import LSTM\n",
        "from keras.layers import Dropout"
      ],
      "execution_count": 0,
      "outputs": []
    },
    {
      "cell_type": "markdown",
      "metadata": {
        "id": "Gy1YxKsMCi53",
        "colab_type": "text"
      },
      "source": [
        "**# Initialising the RNN**"
      ]
    },
    {
      "cell_type": "code",
      "metadata": {
        "id": "_A85HMfPCfk8",
        "colab_type": "code",
        "colab": {}
      },
      "source": [
        "regressor = Sequential()"
      ],
      "execution_count": 0,
      "outputs": []
    },
    {
      "cell_type": "markdown",
      "metadata": {
        "id": "pvRRGFp8CvFt",
        "colab_type": "text"
      },
      "source": [
        "**# Adding the first LSTM layer and some Dropout Regularisation**"
      ]
    },
    {
      "cell_type": "code",
      "metadata": {
        "id": "kYBHL9fRCuY4",
        "colab_type": "code",
        "colab": {}
      },
      "source": [
        "regressor.add(LSTM(units =50, return_sequences = True,input_shape = (X_train.shape[1],1)))\n",
        "regressor.add(Dropout(0.2))"
      ],
      "execution_count": 0,
      "outputs": []
    },
    {
      "cell_type": "markdown",
      "metadata": {
        "id": "q43YP7toDxax",
        "colab_type": "text"
      },
      "source": [
        "**#  Adding the second LSTM layer and some Dropout Regularisation**"
      ]
    },
    {
      "cell_type": "code",
      "metadata": {
        "id": "4d2dCIWXDt3A",
        "colab_type": "code",
        "colab": {}
      },
      "source": [
        "regressor.add(LSTM(units =50, return_sequences = True))\n",
        "regressor.add(Dropout(0.2))"
      ],
      "execution_count": 0,
      "outputs": []
    },
    {
      "cell_type": "markdown",
      "metadata": {
        "id": "naz7hL6DESkE",
        "colab_type": "text"
      },
      "source": [
        "**# Adding the third LSTM layer and some Dropout Regularisation**"
      ]
    },
    {
      "cell_type": "code",
      "metadata": {
        "id": "POr7PSXvER7s",
        "colab_type": "code",
        "colab": {}
      },
      "source": [
        "regressor.add(LSTM(units = 50, return_sequences = True))\n",
        "regressor.add(Dropout(0.2))"
      ],
      "execution_count": 0,
      "outputs": []
    },
    {
      "cell_type": "markdown",
      "metadata": {
        "id": "bhuSWUVfElZe",
        "colab_type": "text"
      },
      "source": [
        "**# Adding a fourth LSTM layer and some Dropout regularisation**"
      ]
    },
    {
      "cell_type": "code",
      "metadata": {
        "id": "sVixSTopEkLF",
        "colab_type": "code",
        "colab": {}
      },
      "source": [
        "regressor.add(LSTM(units = 50))\n",
        "regressor.add(Dropout(0.2))"
      ],
      "execution_count": 0,
      "outputs": []
    },
    {
      "cell_type": "markdown",
      "metadata": {
        "id": "x8oTtIQ6E7b8",
        "colab_type": "text"
      },
      "source": [
        "**# Adding the output layer**"
      ]
    },
    {
      "cell_type": "code",
      "metadata": {
        "id": "d_xR3hwZE30d",
        "colab_type": "code",
        "colab": {}
      },
      "source": [
        "regressor.add(Dense(units=1))"
      ],
      "execution_count": 0,
      "outputs": []
    },
    {
      "cell_type": "markdown",
      "metadata": {
        "id": "gAOY_BaYFIqH",
        "colab_type": "text"
      },
      "source": [
        "**# Compiling the RNN**"
      ]
    },
    {
      "cell_type": "code",
      "metadata": {
        "id": "Zh9C6zOWFH78",
        "colab_type": "code",
        "colab": {}
      },
      "source": [
        "regressor.compile(optimizer = 'adam', loss = 'mean_squared_error')"
      ],
      "execution_count": 0,
      "outputs": []
    },
    {
      "cell_type": "markdown",
      "metadata": {
        "id": "usD6WTDNFm0P",
        "colab_type": "text"
      },
      "source": [
        "**# Fitting the RNN to the Trainig set** "
      ]
    },
    {
      "cell_type": "code",
      "metadata": {
        "id": "KJqFkrbFFmEX",
        "colab_type": "code",
        "colab": {
          "base_uri": "https://localhost:8080/",
          "height": 1000
        },
        "outputId": "b6edec51-a28c-4dbb-bcc9-9c072c768f19"
      },
      "source": [
        "regressor.fit(X_train , y_train , epochs=100 , batch_size = 32)"
      ],
      "execution_count": 32,
      "outputs": [
        {
          "output_type": "stream",
          "text": [
            "Epoch 1/100\n",
            "1/1 [==============================] - 1s 1s/step - loss: 0.0080\n",
            "Epoch 2/100\n",
            "1/1 [==============================] - 0s 78ms/step - loss: 0.0049\n",
            "Epoch 3/100\n",
            "1/1 [==============================] - 0s 74ms/step - loss: 0.0035\n",
            "Epoch 4/100\n",
            "1/1 [==============================] - 0s 76ms/step - loss: 8.4727e-04\n",
            "Epoch 5/100\n",
            "1/1 [==============================] - 0s 83ms/step - loss: 8.0950e-04\n",
            "Epoch 6/100\n",
            "1/1 [==============================] - 0s 78ms/step - loss: 0.0020\n",
            "Epoch 7/100\n",
            "1/1 [==============================] - 0s 81ms/step - loss: 0.0023\n",
            "Epoch 8/100\n",
            "1/1 [==============================] - 0s 87ms/step - loss: 6.7729e-04\n",
            "Epoch 9/100\n",
            "1/1 [==============================] - 0s 80ms/step - loss: 2.8228e-06\n",
            "Epoch 10/100\n",
            "1/1 [==============================] - 0s 78ms/step - loss: 8.1680e-05\n",
            "Epoch 11/100\n",
            "1/1 [==============================] - 0s 79ms/step - loss: 2.5289e-05\n",
            "Epoch 12/100\n",
            "1/1 [==============================] - 0s 76ms/step - loss: 1.9878e-04\n",
            "Epoch 13/100\n",
            "1/1 [==============================] - 0s 79ms/step - loss: 3.4068e-04\n",
            "Epoch 14/100\n",
            "1/1 [==============================] - 0s 78ms/step - loss: 4.1672e-04\n",
            "Epoch 15/100\n",
            "1/1 [==============================] - 0s 78ms/step - loss: 2.1663e-04\n",
            "Epoch 16/100\n",
            "1/1 [==============================] - 0s 78ms/step - loss: 8.9067e-05\n",
            "Epoch 17/100\n",
            "1/1 [==============================] - 0s 78ms/step - loss: 9.1838e-06\n",
            "Epoch 18/100\n",
            "1/1 [==============================] - 0s 83ms/step - loss: 1.7342e-04\n",
            "Epoch 19/100\n",
            "1/1 [==============================] - 0s 86ms/step - loss: 3.8921e-05\n",
            "Epoch 20/100\n",
            "1/1 [==============================] - 0s 77ms/step - loss: 7.2139e-05\n",
            "Epoch 21/100\n",
            "1/1 [==============================] - 0s 79ms/step - loss: 6.9571e-06\n",
            "Epoch 22/100\n",
            "1/1 [==============================] - 0s 77ms/step - loss: 7.6767e-05\n",
            "Epoch 23/100\n",
            "1/1 [==============================] - 0s 78ms/step - loss: 6.6684e-04\n",
            "Epoch 24/100\n",
            "1/1 [==============================] - 0s 80ms/step - loss: 2.5564e-04\n",
            "Epoch 25/100\n",
            "1/1 [==============================] - 0s 76ms/step - loss: 7.1425e-05\n",
            "Epoch 26/100\n",
            "1/1 [==============================] - 0s 77ms/step - loss: 6.8409e-05\n",
            "Epoch 27/100\n",
            "1/1 [==============================] - 0s 84ms/step - loss: 0.0014\n",
            "Epoch 28/100\n",
            "1/1 [==============================] - 0s 79ms/step - loss: 7.7336e-05\n",
            "Epoch 29/100\n",
            "1/1 [==============================] - 0s 77ms/step - loss: 6.4440e-04\n",
            "Epoch 30/100\n",
            "1/1 [==============================] - 0s 80ms/step - loss: 3.5917e-04\n",
            "Epoch 31/100\n",
            "1/1 [==============================] - 0s 79ms/step - loss: 7.8418e-05\n",
            "Epoch 32/100\n",
            "1/1 [==============================] - 0s 72ms/step - loss: 2.5633e-04\n",
            "Epoch 33/100\n",
            "1/1 [==============================] - 0s 74ms/step - loss: 5.5641e-05\n",
            "Epoch 34/100\n",
            "1/1 [==============================] - 0s 71ms/step - loss: 4.6728e-04\n",
            "Epoch 35/100\n",
            "1/1 [==============================] - 0s 71ms/step - loss: 0.0013\n",
            "Epoch 36/100\n",
            "1/1 [==============================] - 0s 70ms/step - loss: 2.8245e-04\n",
            "Epoch 37/100\n",
            "1/1 [==============================] - 0s 71ms/step - loss: 5.9611e-04\n",
            "Epoch 38/100\n",
            "1/1 [==============================] - 0s 69ms/step - loss: 6.9244e-05\n",
            "Epoch 39/100\n",
            "1/1 [==============================] - 0s 71ms/step - loss: 1.2016e-04\n",
            "Epoch 40/100\n",
            "1/1 [==============================] - 0s 77ms/step - loss: 3.3506e-05\n",
            "Epoch 41/100\n",
            "1/1 [==============================] - 0s 69ms/step - loss: 1.2344e-05\n",
            "Epoch 42/100\n",
            "1/1 [==============================] - 0s 70ms/step - loss: 2.4280e-05\n",
            "Epoch 43/100\n",
            "1/1 [==============================] - 0s 70ms/step - loss: 3.1941e-04\n",
            "Epoch 44/100\n",
            "1/1 [==============================] - 0s 68ms/step - loss: 3.4417e-10\n",
            "Epoch 45/100\n",
            "1/1 [==============================] - 0s 78ms/step - loss: 1.3514e-09\n",
            "Epoch 46/100\n",
            "1/1 [==============================] - 0s 76ms/step - loss: 8.1815e-05\n",
            "Epoch 47/100\n",
            "1/1 [==============================] - 0s 81ms/step - loss: 5.1786e-06\n",
            "Epoch 48/100\n",
            "1/1 [==============================] - 0s 72ms/step - loss: 4.7973e-05\n",
            "Epoch 49/100\n",
            "1/1 [==============================] - 0s 78ms/step - loss: 3.5510e-05\n",
            "Epoch 50/100\n",
            "1/1 [==============================] - 0s 77ms/step - loss: 5.2376e-04\n",
            "Epoch 51/100\n",
            "1/1 [==============================] - 0s 72ms/step - loss: 1.8564e-05\n",
            "Epoch 52/100\n",
            "1/1 [==============================] - 0s 70ms/step - loss: 1.5157e-05\n",
            "Epoch 53/100\n",
            "1/1 [==============================] - 0s 75ms/step - loss: 6.4627e-06\n",
            "Epoch 54/100\n",
            "1/1 [==============================] - 0s 69ms/step - loss: 3.0980e-06\n",
            "Epoch 55/100\n",
            "1/1 [==============================] - 0s 71ms/step - loss: 2.8795e-05\n",
            "Epoch 56/100\n",
            "1/1 [==============================] - 0s 70ms/step - loss: 1.0316e-07\n",
            "Epoch 57/100\n",
            "1/1 [==============================] - 0s 70ms/step - loss: 1.4527e-04\n",
            "Epoch 58/100\n",
            "1/1 [==============================] - 0s 79ms/step - loss: 1.3276e-05\n",
            "Epoch 59/100\n",
            "1/1 [==============================] - 0s 72ms/step - loss: 3.0996e-04\n",
            "Epoch 60/100\n",
            "1/1 [==============================] - 0s 75ms/step - loss: 3.0193e-05\n",
            "Epoch 61/100\n",
            "1/1 [==============================] - 0s 71ms/step - loss: 1.7349e-06\n",
            "Epoch 62/100\n",
            "1/1 [==============================] - 0s 71ms/step - loss: 3.2155e-05\n",
            "Epoch 63/100\n",
            "1/1 [==============================] - 0s 70ms/step - loss: 6.2202e-05\n",
            "Epoch 64/100\n",
            "1/1 [==============================] - 0s 70ms/step - loss: 8.0478e-05\n",
            "Epoch 65/100\n",
            "1/1 [==============================] - 0s 68ms/step - loss: 3.2363e-05\n",
            "Epoch 66/100\n",
            "1/1 [==============================] - 0s 73ms/step - loss: 1.7690e-05\n",
            "Epoch 67/100\n",
            "1/1 [==============================] - 0s 70ms/step - loss: 2.2271e-05\n",
            "Epoch 68/100\n",
            "1/1 [==============================] - 0s 70ms/step - loss: 2.4930e-04\n",
            "Epoch 69/100\n",
            "1/1 [==============================] - 0s 69ms/step - loss: 2.5421e-04\n",
            "Epoch 70/100\n",
            "1/1 [==============================] - 0s 71ms/step - loss: 1.9401e-06\n",
            "Epoch 71/100\n",
            "1/1 [==============================] - 0s 82ms/step - loss: 1.3675e-04\n",
            "Epoch 72/100\n",
            "1/1 [==============================] - 0s 78ms/step - loss: 1.6684e-04\n",
            "Epoch 73/100\n",
            "1/1 [==============================] - 0s 74ms/step - loss: 3.6873e-04\n",
            "Epoch 74/100\n",
            "1/1 [==============================] - 0s 72ms/step - loss: 2.4345e-04\n",
            "Epoch 75/100\n",
            "1/1 [==============================] - 0s 73ms/step - loss: 6.1943e-06\n",
            "Epoch 76/100\n",
            "1/1 [==============================] - 0s 72ms/step - loss: 4.2551e-05\n",
            "Epoch 77/100\n",
            "1/1 [==============================] - 0s 69ms/step - loss: 1.0704e-04\n",
            "Epoch 78/100\n",
            "1/1 [==============================] - 0s 71ms/step - loss: 1.1193e-05\n",
            "Epoch 79/100\n",
            "1/1 [==============================] - 0s 80ms/step - loss: 1.0151e-05\n",
            "Epoch 80/100\n",
            "1/1 [==============================] - 0s 77ms/step - loss: 2.5037e-06\n",
            "Epoch 81/100\n",
            "1/1 [==============================] - 0s 72ms/step - loss: 7.9717e-05\n",
            "Epoch 82/100\n",
            "1/1 [==============================] - 0s 72ms/step - loss: 3.6096e-05\n",
            "Epoch 83/100\n",
            "1/1 [==============================] - 0s 72ms/step - loss: 1.6300e-04\n",
            "Epoch 84/100\n",
            "1/1 [==============================] - 0s 71ms/step - loss: 9.1565e-05\n",
            "Epoch 85/100\n",
            "1/1 [==============================] - 0s 72ms/step - loss: 7.6651e-05\n",
            "Epoch 86/100\n",
            "1/1 [==============================] - 0s 85ms/step - loss: 1.8701e-04\n",
            "Epoch 87/100\n",
            "1/1 [==============================] - 0s 74ms/step - loss: 1.9110e-04\n",
            "Epoch 88/100\n",
            "1/1 [==============================] - 0s 71ms/step - loss: 1.0780e-04\n",
            "Epoch 89/100\n",
            "1/1 [==============================] - 0s 71ms/step - loss: 4.1376e-05\n",
            "Epoch 90/100\n",
            "1/1 [==============================] - 0s 71ms/step - loss: 1.1208e-04\n",
            "Epoch 91/100\n",
            "1/1 [==============================] - 0s 78ms/step - loss: 2.8828e-04\n",
            "Epoch 92/100\n",
            "1/1 [==============================] - 0s 71ms/step - loss: 3.0654e-05\n",
            "Epoch 93/100\n",
            "1/1 [==============================] - 0s 72ms/step - loss: 1.4151e-05\n",
            "Epoch 94/100\n",
            "1/1 [==============================] - 0s 71ms/step - loss: 4.8160e-05\n",
            "Epoch 95/100\n",
            "1/1 [==============================] - 0s 71ms/step - loss: 2.1573e-05\n",
            "Epoch 96/100\n",
            "1/1 [==============================] - 0s 71ms/step - loss: 1.7978e-04\n",
            "Epoch 97/100\n",
            "1/1 [==============================] - 0s 70ms/step - loss: 8.6918e-05\n",
            "Epoch 98/100\n",
            "1/1 [==============================] - 0s 77ms/step - loss: 2.0626e-04\n",
            "Epoch 99/100\n",
            "1/1 [==============================] - 0s 77ms/step - loss: 1.4573e-04\n",
            "Epoch 100/100\n",
            "1/1 [==============================] - 0s 73ms/step - loss: 7.3905e-05\n"
          ],
          "name": "stdout"
        },
        {
          "output_type": "execute_result",
          "data": {
            "text/plain": [
              "<keras.callbacks.callbacks.History at 0x7f2a36cb86a0>"
            ]
          },
          "metadata": {
            "tags": []
          },
          "execution_count": 32
        }
      ]
    },
    {
      "cell_type": "markdown",
      "metadata": {
        "id": "SSpom6HEGGEn",
        "colab_type": "text"
      },
      "source": [
        "**# Part 3 -Making the predictions and visualising the results.**"
      ]
    },
    {
      "cell_type": "markdown",
      "metadata": {
        "id": "7DyldO-MGpcS",
        "colab_type": "text"
      },
      "source": [
        "**# Getting the real stock price of 2017**"
      ]
    },
    {
      "cell_type": "code",
      "metadata": {
        "id": "hWutmTSJF-l7",
        "colab_type": "code",
        "colab": {}
      },
      "source": [
        "dataset_test = pd.read_csv('Google_Stock_Price_Test.csv')\n",
        "real_stock_price = dataset_test.iloc[: , 1:2].values"
      ],
      "execution_count": 0,
      "outputs": []
    },
    {
      "cell_type": "markdown",
      "metadata": {
        "id": "6bQik5bPHZmX",
        "colab_type": "text"
      },
      "source": [
        "**# Getting the predicted stock price in 2017**"
      ]
    },
    {
      "cell_type": "code",
      "metadata": {
        "id": "6oaH7StrJgBg",
        "colab_type": "code",
        "colab": {}
      },
      "source": [
        "dataset_total = pd.concat((dataset_train['Open'], dataset_test['Open']), axis = 0)\n",
        "inputs = dataset_total[len(dataset_total) - len(dataset_test) - 60:].values\n",
        "inputs = inputs.reshape(-1,1)\n",
        "inputs = sc.transform(inputs)\n",
        "X_test = []\n",
        "for i in range(60, 80):\n",
        "    X_test.append(inputs[i-60:i, 0])\n",
        "X_test = np.array(X_test)\n",
        "X_test = np.reshape(X_test, (X_test.shape[0], X_test.shape[1], 1))\n",
        "predicted_stock_price = regressor.predict(X_test)\n",
        "predicted_stock_price = sc.inverse_transform(predicted_stock_price)"
      ],
      "execution_count": 0,
      "outputs": []
    },
    {
      "cell_type": "markdown",
      "metadata": {
        "id": "QzsjSJWSJtNf",
        "colab_type": "text"
      },
      "source": [
        "**# visualising the results.**"
      ]
    },
    {
      "cell_type": "code",
      "metadata": {
        "id": "3HfFNT-dJsi-",
        "colab_type": "code",
        "colab": {
          "base_uri": "https://localhost:8080/",
          "height": 295
        },
        "outputId": "66554436-6f4a-4ec5-db77-3f5f6c1016e4"
      },
      "source": [
        "plt.plot(real_stock_price, color = 'red', label = 'Real Google Stock Price')\n",
        "plt.plot(predicted_stock_price, color = 'blue', label = 'Predicted Google Stock Price')\n",
        "plt.title('Google Stock Price Prediction')\n",
        "plt.xlabel('Time')\n",
        "plt.ylabel('Google Stock Price')\n",
        "plt.legend()\n",
        "plt.show()"
      ],
      "execution_count": 41,
      "outputs": [
        {
          "output_type": "display_data",
          "data": {
            "image/png": "[encoded data removed]",
            "text/plain": [
              "<Figure size 432x288 with 1 Axes>"
            ]
          },
          "metadata": {
            "tags": [],
            "needs_background": "light"
          }
        }
      ]
    }
  ]
}